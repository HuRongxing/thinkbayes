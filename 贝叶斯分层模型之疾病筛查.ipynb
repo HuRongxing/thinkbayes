{
 "cells": [
  {
   "cell_type": "markdown",
   "metadata": {},
   "source": [
    "本文以疾病筛查为例，介绍了如何用Python构建一个贝叶斯分层模型。"
   ]
  },
  {
   "cell_type": "markdown",
   "metadata": {},
   "source": [
    "# 1. 医学筛查"
   ]
  },
  {
   "cell_type": "markdown",
   "metadata": {},
   "source": [
    "有一项医学筛查技术，测试结果为假阳性的概率为0.15，假阴性率为0.1。在一次筛查中，随机对1,000人进行了检测，结果为阳性的有213人。该病在人群中发病率的后验分布是什么？"
   ]
  },
  {
   "cell_type": "markdown",
   "metadata": {},
   "source": [
    "# 2. 概率模型"
   ]
  },
  {
   "cell_type": "markdown",
   "metadata": {},
   "source": [
    "根据问题，假设\n",
    "+ N=1000，参与测试人数；\n",
    "+ p=213，阳性人数；\n",
    "+ ${p}_{t}$，真阳性人数；\n",
    "+ d，患病人数；\n",
    "+ r，发病率。 \n",
    "\n",
    "根据贝叶斯理论，我们有："
   ]
  },
  {
   "cell_type": "markdown",
   "metadata": {},
   "source": [
    "$$P(r | p) = {P(r) \\centerdot P(p | r) \\over \\sum_{r \\in R}P(r) \\centerdot P(p | r)} \\tag{1}$$"
   ]
  },
  {
   "cell_type": "markdown",
   "metadata": {},
   "source": [
    "其中: \n",
    "+ $P(r)$为先验分布，我们可以简单假设其服从(0,1)区间上的均匀分布，即$R \\sim U(0, 1)$；\n",
    "+ $P(p|r)$为似然函数，已知发病率为$r$的情况下，测试结果为阳性人数$p$的分布。\n",
    "\n",
    "后验分布$P(p|r)$是问题$(1)$的关键。知道$r$，并不能直接得到$p$的概率分布，检测结果有包括真阳性，也包括假阳性。如下表\n",
    "\n",
    " &ensp; | 阴性 | 阳性 \n",
    " :-: | :-: | :-: \n",
    "患病 |   -   |   ${p}_{t}$\n",
    "未患病 | - | $$p-{p}_{t}$$   \n",
    "合计 | $$N - p$$   | $p$\n",
    "\n",
    "在患病率为$r$的情况下，计算测试结果为阳性的人数$p$的概率，还需要考虑“患有疾病测试结果为阳性的人数”和“没有患病但测试结果为阳性的人数”这两种情况。因此，需要在$r$与$p$的因果关系链中引入中间变量${p}_{t}、(p - {p}_{t})$作为桥梁，构建贝叶斯分层模型。"
   ]
  },
  {
   "cell_type": "markdown",
   "metadata": {},
   "source": [
    "一般地，假设${y}_1, {y}_2, {y}_3, \\dots$是互斥的随机事件，我们有如下计算随机变量边缘分布的方法：\n",
    "\n",
    "$$\\begin{align*}\n",
    "P(x) & = P(x，y_1) + P(x，y_2) + \\dots \\\\\n",
    "     & = \\sum_i P(x | y_i) \\centerdot P(y_i)\n",
    "\\end{align*} \\tag{2}$$"
   ]
  },
  {
   "cell_type": "markdown",
   "metadata": {},
   "source": [
    "有了公式$(2)$，就可以用它来构建医学筛查的贝叶斯层次模型。根据前面的分析，引入中间变量${p}_{t}、(p - {p}_{t})$后，可得到一个3维的联合概率函数为：\n",
    "$$\\begin{align}\n",
    "P(p，p_t，d \\mid r, N)\n",
    "\\end{align}$$"
   ]
  },
  {
   "cell_type": "markdown",
   "metadata": {},
   "source": [
    "运用$(2)$式中的方法，可以逐步得到$p$的边缘分布概率质量函数："
   ]
  },
  {
   "cell_type": "markdown",
   "metadata": {},
   "source": [
    "$$ \\begin{align*} \n",
    "P(p, p_t \\mid r, N) &= \\sum_iP(p，p_t \\mid d_i，r, N) \\centerdot P(d_i \\mid r，N) \\\\\n",
    "P(p \\mid r, N)  &= \\sum_i \\sum_j P(p \\mid p_{t_j}, r, N) \\centerdot P (p_{t_j} \\mid d_i, r, N) \\centerdot P(d_i \\mid r, N) \n",
    "\\tag{3}\n",
    "\\end{align*}\n",
    "$$ "
   ]
  },
  {
   "cell_type": "markdown",
   "metadata": {},
   "source": [
    "$(3)$式右边的每一项都可以用二项分布来表示。其中，\n",
    "+ 右边第一项$P(p | {p}_{{t}_{j}}, r, N)$表示有${p}_{t}$个真实阳性的情况下，测试结果为阳性的数量$p$的概率。即，当假阳性率为${r}_{fp}$时，从没有疾病的$N-d$个人中，得到$（p-{p}_{t}）$个假阳性的概率。\n",
    "$$ (P-P_t) \\sim B(p - {p}_{t} \\mid N - d, {f}_{fp})  \\tag{4}$$\n",
    "+ 右边第二项$P({p}_{{t}_{j}} \\mid {d}_{i}, r, N)$表示当受检人群中患病人数为$d$时，真实阳性为${p}_{t}$的概率。即，当对患病人群检测成功率为$1 - {r}_{fn}$时，在$d$个患病受检者中检测出${p}_{t}$个阳性的概率。\n",
    "$$P_t \\sim B({p}_{t} \\mid d, 1 - {r}_{fn}) \\tag{5}$$\n",
    "+ 右边第三项$P(d_i \\mid r, N)$表示当疾病发生率为$r$时，$N$个人中有$d$个患病的概率。\n",
    "$$D \\sim B(d_i \\mid N, r) \\tag{6}$$"
   ]
  },
  {
   "cell_type": "markdown",
   "metadata": {},
   "source": [
    "# 3. 概率编程"
   ]
  },
  {
   "cell_type": "markdown",
   "metadata": {},
   "source": [
    "综上，用Python进行贝叶斯概率编程的步骤如下。\n",
    "+ 生成公式$(1)$中的先验分布$P(r)$;\n",
    "+ 针对$r$的每一个值，根据公式$(3)$计算似然函数值；\n",
    "+ 针对$r$的每一个值，用先验分布值乘以对应的似然函数值，该步的乘积与后验分布成正比；\n",
    "+ 对第三步计算结果归一化处理。\n",
    "\n",
    "下面是完整代码，其中最关键部分是似然函数Likelihood()。"
   ]
  },
  {
   "cell_type": "code",
   "execution_count": 1,
   "metadata": {},
   "outputs": [],
   "source": [
    "from tools import Suite\n",
    "from scipy.stats import binom  # 二项分布\n",
    "from numpy import linspace     # 插值\n",
    "\n",
    "class MedicalTest(Suite):\n",
    "    \"\"\"医学筛查的分层贝叶斯模型。\"\"\"\n",
    "    \n",
    "    def __init__(self, n=50, r_fn=0.15, r_fp=0.1,Name=None):\n",
    "        \"\"\"初始化。\n",
    "        \n",
    "        参数：\n",
    "            setp,先验r在（0，1）区间上取值的步长；\n",
    "            r_fn,假阴性占比\n",
    "            r_fp,假阳性占比\n",
    "        \"\"\"\n",
    "        self.r_fn = r_fn\n",
    "        self.r_fp = r_fp\n",
    "        # r的先验分布\n",
    "        rs = linspace(0,1,n)\n",
    "        Suite.__init__(self, rs, name=None)\n",
    "    \n",
    "    def Likelihood(self, data, hypo):\n",
    "        \"\"\"给定假设的似然函数。        \n",
    "\n",
    "        data: 元组（N,p）,其中N为参与测试人数，p为测试结果为阳性人数。\n",
    "        hypo: 先验分布概率值\n",
    "        \"\"\"\n",
    "        N = data[0]\n",
    "        p = data[1]\n",
    "        r = hypo\n",
    "        # 得病人数分布\n",
    "        d_range = range(N + 1) \n",
    "        # 真阳性的人数分布\n",
    "        p_t_range = range(p + 1)\n",
    "        \n",
    "        total = 0\n",
    "        for d in d_range:   # 两个循环，对应(3)式中两次求和\n",
    "            for p_t in p_t_range:   \n",
    "                p1 = binom.pmf(p - p_t, N - d, self.r_fp)  # 概率分布(4)\n",
    "                p2 = binom.pmf(p_t, d, (1 - self.r_fn))    # 概率分布(5)\n",
    "                p3 = binom.pmf(d, N, r)                    # 概率分布(6)\n",
    "           \n",
    "                total += (p1 * p2 * p3)\n",
    "   \n",
    "        return total       "
   ]
  },
  {
   "cell_type": "code",
   "execution_count": 2,
   "metadata": {},
   "outputs": [],
   "source": [
    "suite = MedicalTest()"
   ]
  },
  {
   "cell_type": "markdown",
   "metadata": {},
   "source": [
    "计算后验分布。"
   ]
  },
  {
   "cell_type": "code",
   "execution_count": 3,
   "metadata": {},
   "outputs": [
    {
     "data": {
      "text/plain": [
       "0.0013053635160419918"
      ]
     },
     "execution_count": 3,
     "metadata": {},
     "output_type": "execute_result"
    }
   ],
   "source": [
    "suite.Update((1000,213))"
   ]
  },
  {
   "cell_type": "markdown",
   "metadata": {},
   "source": [
    "作出后验分布图。"
   ]
  },
  {
   "cell_type": "code",
   "execution_count": 4,
   "metadata": {},
   "outputs": [
    {
     "data": {
      "image/png": "[encoded data removed]",
      "text/plain": [
       "<Figure size 432x288 with 1 Axes>"
      ]
     },
     "metadata": {
      "needs_background": "light"
     },
     "output_type": "display_data"
    }
   ],
   "source": [
    "from matplotlib import pyplot as plt\n",
    "from scipy.interpolate import interp1d\n",
    "\n",
    "# 随机变量的取值列表和概率列表，作图用\n",
    "x,y = zip(*suite.Items())\n",
    "xs = linspace(0,0.3,100)\n",
    "# 因计算时间太长，模型中r的点密度较为稀疏\n",
    "# 计算出后验后，通过插值平滑后验分布图形\n",
    "f2 = interp1d(x, y, kind='cubic')\n",
    "# 作图\n",
    "plt.plot(x,y,'o',xs,f2(xs),'-')\n",
    "plt.legend(['概率质量', '平滑曲线'], loc='best')\n",
    "plt.title('1000人中213人为阳性的情况下真实发病率$r$的后验分布')\n",
    "plt.xlabel('疾病发生率r的取值')\n",
    "plt.ylabel('概率质量')\n",
    "plt.xlim(0.05,0.25)\n",
    "plt.show()"
   ]
  },
  {
   "cell_type": "markdown",
   "metadata": {},
   "source": [
    "本文中程序运行时间较长，如果有好的优化方法，请与我联系。完整源代码请到[GitHub](https://github.com/HuRongxing/thinkbayes)下载。\n",
    "本文例子来自[博客Maximum Entropy](http://maximum-entropy-blog.blogspot.com/2015/10/multi-level-modeling.html \"maximum-entropy-blog\")，有修改。"
   ]
  }
 ],
 "metadata": {
  "kernelspec": {
   "display_name": "Python 3",
   "language": "python",
   "name": "python3"
  },
  "language_info": {
   "codemirror_mode": {
    "name": "ipython",
    "version": 3
   },
   "file_extension": ".py",
   "mimetype": "text/x-python",
   "name": "python",
   "nbconvert_exporter": "python",
   "pygments_lexer": "ipython3",
   "version": "3.7.3"
  }
 },
 "nbformat": 4,
 "nbformat_minor": 4
}
