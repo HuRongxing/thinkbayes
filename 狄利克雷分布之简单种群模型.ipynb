{
 "cells": [
  {
   "cell_type": "markdown",
   "metadata": {},
   "source": [
    "# 1. 狮子、老虎和熊"
   ]
  },
  {
   "cell_type": "markdown",
   "metadata": {},
   "source": [
    "我们参观野生动物园保护区，看到了3只狮子、2只老虎和1头熊，如果我们观察到任何动物的机会均等，那么动物园所有动物中，狮子、老虎和熊的占比各是多少？  \n",
    "先验分布可以假定每种动物的占比是一样的，但各类动物占比不是独立的，所有的占比之和为1。可以用狄利克雷分布来建模。"
   ]
  },
  {
   "cell_type": "markdown",
   "metadata": {},
   "source": [
    "## 2. 狄利克雷分布"
   ]
  },
  {
   "cell_type": "markdown",
   "metadata": {},
   "source": [
    "**狄利克雷分布**$Dir(\\alpha)$ , 是一组$k$个连续多元随机分布的分布族，这组多元连续分布随机变量的参数为$\\mathbf{a}=(\\alpha_{1}, \\alpha_{2}, \\cdots, \\alpha_{k})$，$\\alpha_{i}\\geq0$。它是贝塔（$\\mathrm {B} $）分布在多元维度上的推广，也被称为多元贝塔布(MBD)。在贝叶斯理论中，狄利克雷分布是分类分布和多项式分布的共轭先验分布，因此常被用作先验分布。狄利克雷分布的密度函数为："
   ]
  },
  {
   "cell_type": "markdown",
   "metadata": {},
   "source": [
    "$$f\\left( {{x}_{1}},\\cdots ,{{x}_{k}};{{\\alpha }_{1}},\\cdots ,{{\\alpha }_{k}} \\right)=\\dfrac{1}{\\mathrm {B}\\left( \\alpha  \\right)}\\prod\\limits_{i=1}^{K}{x_{i}^{{{\\alpha }_{i}}-1}}$$"
   ]
  },
  {
   "cell_type": "markdown",
   "metadata": {},
   "source": [
    "且对于所有$i\\in [1,K]$，满足以下条件："
   ]
  },
  {
   "cell_type": "markdown",
   "metadata": {},
   "source": [
    "$$\\left\\{ \\begin{matrix}\n",
    "   \\sum\\limits_{i=1}^{k}{{{x}_{i}}=1}  \\\\\n",
    "   {{x}_{i}}\\ge 0  \\\\\n",
    "   {{\\alpha }_{i}}\\ge 0  \\\\\n",
    "\\end{matrix} \\right.\n",
    "$$"
   ]
  },
  {
   "cell_type": "markdown",
   "metadata": {},
   "source": [
    "其中归一化常数$\\mathrm {B}$为："
   ]
  },
  {
   "cell_type": "markdown",
   "metadata": {},
   "source": [
    "$${\\displaystyle \\mathrm {B} ({\\boldsymbol {\\alpha }})={\\frac {\\prod _{i=1}^{K}\\Gamma (\\alpha _{i})}{\\Gamma \\left(\\sum _{i=1}^{K}\\alpha _{i}\\right)}},\\qquad {\\boldsymbol {\\alpha }}=(\\alpha _{1},\\ldots ,\\alpha _{K})}$$"
   ]
  },
  {
   "cell_type": "markdown",
   "metadata": {},
   "source": [
    "狄利克雷分布的**边缘分布**是贝塔分布：\n",
    "$${\\displaystyle X_{i}\\sim \\operatorname {Beta} (\\alpha _{i},\\alpha _{0}-\\alpha _{i})}$$其中，$$\\displaystyle{\\alpha_0 = \\sum_1^k \\alpha_i}$$"
   ]
  },
  {
   "cell_type": "markdown",
   "metadata": {},
   "source": [
    "# 3. 类Dirichlet"
   ]
  },
  {
   "cell_type": "code",
   "execution_count": 1,
   "metadata": {},
   "outputs": [],
   "source": [
    "from tools import Beta, MakePmfFromItems, MakePmfFromDict\n",
    "import numpy\n",
    "\n",
    "class Dirichlet(object):\n",
    "    \"\"\"狄利克雷分布模型。\n",
    "    \"\"\"\n",
    "    \n",
    "    def __init__(self, n, conc=1, name=''):\n",
    "        \"\"\"初始化狄利克雷分布\n",
    "        n: 维度\n",
    "        conc: 集中度参数 (数值越小，集中度越高)\n",
    "        name: 实例的名称\n",
    "        \"\"\"\n",
    "        if n < 2:\n",
    "            raise ValueError('狄利克雷分布的维数应当大于或等于2')\n",
    "\n",
    "        self.n = n\n",
    "        self.params = numpy.ones(n, dtype=numpy.float) * conc\n",
    "        self.name = name\n",
    "\n",
    "    def Update(self, data):\n",
    "        \"\"\"更新分布。\n",
    "        data: 观测值构成的列表，与对应参数顺序保持一致。\"\"\"\n",
    "        m = len(data)\n",
    "        self.params[:m] += data\n",
    "\n",
    "    def Random(self):\n",
    "        \"\"\"从分布生成随机变量。gamma抽样。\n",
    "\n",
    "        Returns:归一化向量（列表）\n",
    "        \"\"\"\n",
    "        p = numpy.random.gamma(self.params)\n",
    "        return p / p.sum()\n",
    "\n",
    "    def Likelihood(self, data):\n",
    "        \"\"\"似然函数。\n",
    "        从分布组合中选择一个随机的概率向量。\n",
    "        \n",
    "        Returns: 概率值\n",
    "        \"\"\"\n",
    "        m = len(data)\n",
    "        if self.n < m:\n",
    "            return 0\n",
    "\n",
    "        x = data\n",
    "        p = self.Random()\n",
    "        q = p[:m] ** x\n",
    "        return q.prod()\n",
    "\n",
    "    def LogLikelihood(self, data):\n",
    "        \"\"\"对数似然分布.\n",
    "\n",
    "        Returns: 对数概率值。\n",
    "        \"\"\"\n",
    "        m = len(data)\n",
    "        if self.n < m:\n",
    "            return float('-inf')\n",
    "\n",
    "        x = self.Random()\n",
    "        y = numpy.log(x[:m]) * data\n",
    "        return y.sum()\n",
    "\n",
    "    def MarginalBeta(self, i):\n",
    "        \"\"\"计算第i个元分布的边际分布（Beta分布）.\n",
    "\n",
    "        i: int\n",
    "        Returns: Beta分布\n",
    "        \"\"\"\n",
    "        alpha0 = self.params.sum()\n",
    "        alpha = self.params[i]\n",
    "        # Beta是在tools中定义的一个类\n",
    "        return Beta(alpha, alpha0 - alpha)\n",
    "\n",
    "    def PredictivePmf(self, xs, name=''):\n",
    "        \"\"\"Makes a predictive distribution.\n",
    "\n",
    "        xs: values to go into the Pmf\n",
    "\n",
    "        Returns: Pmf that maps from x to the mean prevalence of x\n",
    "        \"\"\"\n",
    "        alpha0 = self.params.sum()\n",
    "        ps = self.params / alpha0\n",
    "        return MakePmfFromItems(zip(xs, ps), name=name)"
   ]
  },
  {
   "cell_type": "markdown",
   "metadata": {},
   "source": [
    " Dirichlet类的__init__()方法的初始化功能很简单，只需要指定维度并给出集中度参数即可。狄利克雷分布的边缘分布是Beta分布， Dirichlet类的MarginalBeta（）方法可用于计算随机变量的边缘分布。"
   ]
  },
  {
   "cell_type": "markdown",
   "metadata": {},
   "source": [
    "# 4. 种群密度的后验分布"
   ]
  },
  {
   "cell_type": "code",
   "execution_count": 8,
   "metadata": {},
   "outputs": [
    {
     "name": "stdout",
     "output_type": "stream",
     "text": [
      "狮子的占比的先验分布均值为:0.33。\n",
      "老虎的占比的先验分布均值为:0.33。\n",
      "熊的占比的先验分布均值为:0.33。\n"
     ]
    }
   ],
   "source": [
    "dirichlet = Dirichlet(3)\n",
    "names = ['狮子','老虎','熊']\n",
    "for i in range(3):\n",
    "    beta = dirichlet.MarginalBeta(i)\n",
    "    print(F\"{names[i]}的占比的先验分布均值为:{beta.Mean():.02}。\")\n"
   ]
  },
  {
   "cell_type": "markdown",
   "metadata": {},
   "source": [
    "狄利克雷分布是分类分布和多项式分布的共轭先验分布，因此在Update方法中只需将参数简单相加即可。结果如下："
   ]
  },
  {
   "cell_type": "code",
   "execution_count": 11,
   "metadata": {},
   "outputs": [
    {
     "data": {
      "image/png": "[encoded data removed]",
      "text/plain": [
       "<Figure size 432x288 with 1 Axes>"
      ]
     },
     "metadata": {
      "needs_background": "light"
     },
     "output_type": "display_data"
    }
   ],
   "source": [
    "data = [3,2,1]\n",
    "dirichlet.Update(data)\n",
    "\n",
    "import matplotlib.pyplot as plt\n",
    "plt.figure(figsize=(6,4))\n",
    "for i in range(3):\n",
    "    beta = dirichlet.MarginalBeta(i)\n",
    "    beta_pmf = beta.MakePmf()\n",
    "    \n",
    "    x,y = zip(*beta_pmf.Items())\n",
    "    plt.plot(x,y,label=names[i])   \n",
    "\n",
    "plt.title(\"简单假设情况下种群密度的后验分布\")\n",
    "plt.xlabel('种群密度')\n",
    "plt.ylabel('概率值')\n",
    "plt.legend()\n",
    "plt.show()"
   ]
  },
  {
   "cell_type": "markdown",
   "metadata": {},
   "source": [
    "本文例子来自Allen B. Downey的《Think Bayes》一书，内容作了增补和修改。有关贝叶斯统计模型的更多例子及完整源代码请访问[GitHub](https://github.com/HuRongxing/thinkbayes)。"
   ]
  }
 ],
 "metadata": {
  "kernelspec": {
   "display_name": "Python 3",
   "language": "python",
   "name": "python3"
  },
  "language_info": {
   "codemirror_mode": {
    "name": "ipython",
    "version": 3
   },
   "file_extension": ".py",
   "mimetype": "text/x-python",
   "name": "python",
   "nbconvert_exporter": "python",
   "pygments_lexer": "ipython3",
   "version": "3.7.3"
  }
 },
 "nbformat": 4,
 "nbformat_minor": 4
}
